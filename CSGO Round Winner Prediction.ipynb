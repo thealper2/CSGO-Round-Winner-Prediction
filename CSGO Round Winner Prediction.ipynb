{
 "cells": [
  {
   "cell_type": "markdown",
   "id": "c3fc989d-6211-46f5-8cd7-ba2e4bddf68a",
   "metadata": {},
   "source": [
    "# Import Libraries"
   ]
  },
  {
   "cell_type": "code",
   "execution_count": null,
   "id": "721c2cf7-0f5d-452e-9ea8-169d6ffece33",
   "metadata": {},
   "outputs": [],
   "source": [
    "import numpy as np\n",
    "import pandas as pd\n",
    "import matplotlib.pyplot as plt\n",
    "import seaborn as sns\n",
    "from sklearn.linear_model import LogisticRegression\n",
    "from sklearn.tree import DecisionTreeClassifier\n",
    "from sklearn.ensemble import RandomForestClassifier\n",
    "from xgboost import XGBClassifier\n",
    "from sklearn.metrics import classification_report, accuracy_score\n",
    "from sklearn.model_selection import train_test_split\n",
    "from sklearn.decomposition import PCA\n",
    "from sklearn.preprocessing import StandardScaler, LabelEncoder"
   ]
  },
  {
   "cell_type": "code",
   "execution_count": null,
   "id": "12b2c369-8137-429c-ad50-7d312051f39c",
   "metadata": {},
   "outputs": [],
   "source": [
    "df = pd.read_csv(\"csgo_round_snapshots.csv\")\n",
    "df.head()"
   ]
  },
  {
   "cell_type": "code",
   "execution_count": null,
   "id": "4aff185d-f5fc-48a8-8550-eeaafefa66d0",
   "metadata": {},
   "outputs": [],
   "source": [
    "df.shape"
   ]
  },
  {
   "cell_type": "code",
   "execution_count": null,
   "id": "a37e875a-2674-4d42-89f2-f67aaa8b96e2",
   "metadata": {},
   "outputs": [],
   "source": [
    "df.isnull().sum().sum()"
   ]
  },
  {
   "cell_type": "code",
   "execution_count": null,
   "id": "e71a664f-5785-4323-adc7-2a5972bdbec4",
   "metadata": {},
   "outputs": [],
   "source": [
    "df.info()"
   ]
  },
  {
   "cell_type": "markdown",
   "id": "67fb53d5-2048-441e-a01e-42af3f44a266",
   "metadata": {},
   "source": [
    "# Preprocess"
   ]
  },
  {
   "cell_type": "code",
   "execution_count": null,
   "id": "4f8bffb2-8821-4b1c-a596-3539155d7501",
   "metadata": {},
   "outputs": [],
   "source": [
    "df[\"bomb_planted\"] = df[\"bomb_planted\"].astype(np.int8)"
   ]
  },
  {
   "cell_type": "code",
   "execution_count": null,
   "id": "09661704-6a67-47b2-9793-a377f5cd2f2e",
   "metadata": {},
   "outputs": [],
   "source": [
    "def label_encoder(column):\n",
    "    le = LabelEncoder().fit(column)\n",
    "    print(column.name, le.classes_)\n",
    "    return le.transform(column)"
   ]
  },
  {
   "cell_type": "code",
   "execution_count": null,
   "id": "243d4dbf-f641-43ba-8902-71a68c2401b5",
   "metadata": {},
   "outputs": [],
   "source": [
    "for col in [\"map\", \"round_winner\"]:\n",
    "    df[col] = label_encoder(df[col])"
   ]
  },
  {
   "cell_type": "code",
   "execution_count": null,
   "id": "b13efb24-c21f-4837-bff0-77d98d7905e6",
   "metadata": {},
   "outputs": [],
   "source": [
    "X = df.drop(\"round_winner\", axis=1)\n",
    "y = df[\"round_winner\"]"
   ]
  },
  {
   "cell_type": "code",
   "execution_count": null,
   "id": "a0744818-db55-44f1-be01-9c20929befd6",
   "metadata": {},
   "outputs": [],
   "source": [
    "ss = StandardScaler()\n",
    "X_scaled = ss.fit_transform(X)"
   ]
  },
  {
   "cell_type": "code",
   "execution_count": null,
   "id": "7cd39569-0f44-4fb0-a018-56fd2c53e190",
   "metadata": {},
   "outputs": [],
   "source": [
    "plt.figure()\n",
    "sns.heatmap(X.corr())\n",
    "plt.show()"
   ]
  },
  {
   "cell_type": "code",
   "execution_count": null,
   "id": "4deace1e-84df-47b8-8022-c97e4b9e2799",
   "metadata": {},
   "outputs": [],
   "source": [
    "pca = PCA(n_components=96)\n",
    "pca.fit(X_scaled)"
   ]
  },
  {
   "cell_type": "code",
   "execution_count": null,
   "id": "806f6598-5aac-4c02-a767-32ca43f0fefe",
   "metadata": {},
   "outputs": [],
   "source": [
    "pca.explained_variance_ratio_"
   ]
  },
  {
   "cell_type": "code",
   "execution_count": null,
   "id": "515bbb98-e404-42c5-a9f8-261f0ea349b0",
   "metadata": {},
   "outputs": [],
   "source": [
    "plt.figure(figsize=(10, 20))\n",
    "plt.barh(X.columns, pca.explained_variance_ratio_)\n",
    "plt.show()"
   ]
  },
  {
   "cell_type": "code",
   "execution_count": null,
   "id": "b07764c6-f359-4dc2-a724-30497f025107",
   "metadata": {},
   "outputs": [],
   "source": [
    "plt.figure()\n",
    "plt.hist(pca.explained_variance_ratio_, bins=96)\n",
    "plt.show()"
   ]
  },
  {
   "cell_type": "code",
   "execution_count": null,
   "id": "62a46e5e-d65b-4d01-a917-c6f6b44d5dbb",
   "metadata": {},
   "outputs": [],
   "source": [
    "plt.figure(figsize=(16, 8))\n",
    "plt.plot(np.cumsum(pca.explained_variance_ratio_))\n",
    "plt.axhline(0.90, c=\"r\")\n",
    "plt.xlabel(\"Number of Components\")\n",
    "plt.ylabel(\"Cumulative Explained Variance\")\n",
    "plt.show()"
   ]
  },
  {
   "cell_type": "code",
   "execution_count": null,
   "id": "5a0ca9c1-511b-4053-a5bb-89d1239ca7f9",
   "metadata": {},
   "outputs": [],
   "source": [
    "X_pca = pca.transform(X_scaled)[:, 0:60]"
   ]
  },
  {
   "cell_type": "code",
   "execution_count": null,
   "id": "70a1f039-e3a5-4032-852c-583bfaedd1d6",
   "metadata": {},
   "outputs": [],
   "source": [
    "data = pd.DataFrame(X_pca)\n",
    "data.head()"
   ]
  },
  {
   "cell_type": "code",
   "execution_count": null,
   "id": "4d710e8e-3cd8-4dea-b835-7f7d1d5f1433",
   "metadata": {},
   "outputs": [],
   "source": [
    "X_train, X_test, y_train, y_test = train_test_split(X_scaled, y, test_size=0.2, random_state=42)"
   ]
  },
  {
   "cell_type": "markdown",
   "id": "000e7258-be2b-4434-8952-841ab1ee2591",
   "metadata": {},
   "source": [
    "# Models"
   ]
  },
  {
   "cell_type": "code",
   "execution_count": null,
   "id": "296845fe-b820-4024-9545-0c8b184ee642",
   "metadata": {},
   "outputs": [],
   "source": [
    "logreg = LogisticRegression()\n",
    "logreg.fit(X_train, y_train)\n",
    "pred_logreg = logreg.predict(X_test)\n",
    "cr_logreg = classification_report(y_test, pred_logreg)\n",
    "ac_logreg = accuracy_score(y_test, pred_logreg)\n",
    "print(cr_logreg)"
   ]
  },
  {
   "cell_type": "code",
   "execution_count": null,
   "id": "45760e60-5a84-4008-aebb-09b5c0920863",
   "metadata": {},
   "outputs": [],
   "source": [
    "dt = DecisionTreeClassifier()\n",
    "dt.fit(X_train, y_train)\n",
    "pred_dt = dt.predict(X_test)\n",
    "cr_dt = classification_report(y_test, pred_dt)\n",
    "ac_dt = accuracy_score(y_test, pred_dt)\n",
    "print(cr_dt)"
   ]
  },
  {
   "cell_type": "code",
   "execution_count": null,
   "id": "df796614-a590-4b36-b92b-a248e77a197f",
   "metadata": {},
   "outputs": [],
   "source": [
    "rf = RandomForestClassifier()\n",
    "rf.fit(X_train, y_train)\n",
    "pred_rf = rf.predict(X_test)\n",
    "cr_rf = classification_report(y_test, pred_rf)\n",
    "ac_rf = accuracy_score(y_test, pred_rf)\n",
    "print(cr_rf)"
   ]
  },
  {
   "cell_type": "code",
   "execution_count": null,
   "id": "072b962d-f2b8-428b-b081-817aa18d1de7",
   "metadata": {},
   "outputs": [],
   "source": [
    "xgb = XGBClassifier()\n",
    "xgb.fit(X_train, y_train)\n",
    "pred_xgb = xgb.predict(X_test)\n",
    "cr_xgb = classification_report(y_test, pred_xgb)\n",
    "ac_xgb = accuracy_score(y_test, pred_xgb)\n",
    "print(cr_xgb)"
   ]
  },
  {
   "cell_type": "code",
   "execution_count": null,
   "id": "a481bc85-06ad-4667-8650-9f5efc4c09dc",
   "metadata": {},
   "outputs": [],
   "source": [
    "models = [\"Logistic Regression\", \"Decision Tree\", \"Random Forest\", \"XGB\"]\n",
    "scores = [ac_logreg, ac_dt, ac_rf, ac_xgb]"
   ]
  },
  {
   "cell_type": "code",
   "execution_count": null,
   "id": "1c4a44b5-b437-4088-8c13-4dd0bf28a7cf",
   "metadata": {},
   "outputs": [],
   "source": [
    "models_df = pd.DataFrame({\"Model\": models, \"Score\": scores})\n",
    "models_df.head()"
   ]
  },
  {
   "cell_type": "code",
   "execution_count": null,
   "id": "a4359e11-099b-48a7-b8ec-1149f2554b60",
   "metadata": {},
   "outputs": [],
   "source": [
    "plt.figure()\n",
    "ax = sns.barplot(data=models_df, x=\"Model\", y=\"Score\")\n",
    "for container in ax.containers:\n",
    "    ax.bar_label(container)\n",
    "plt.show()"
   ]
  },
  {
   "cell_type": "code",
   "execution_count": null,
   "id": "da4fef1c-8f45-4b2c-bc19-b5e19793ab75",
   "metadata": {},
   "outputs": [],
   "source": []
  }
 ],
 "metadata": {
  "kernelspec": {
   "display_name": "Python 3 (ipykernel)",
   "language": "python",
   "name": "python3"
  },
  "language_info": {
   "codemirror_mode": {
    "name": "ipython",
    "version": 3
   },
   "file_extension": ".py",
   "mimetype": "text/x-python",
   "name": "python",
   "nbconvert_exporter": "python",
   "pygments_lexer": "ipython3",
   "version": "3.10.12"
  }
 },
 "nbformat": 4,
 "nbformat_minor": 5
}
